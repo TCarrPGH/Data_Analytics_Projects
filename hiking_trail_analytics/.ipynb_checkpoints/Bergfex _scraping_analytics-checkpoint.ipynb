{
 "cells": [
  {
   "cell_type": "code",
   "execution_count": 26,
   "metadata": {},
   "outputs": [],
   "source": [
    "# import requests\n",
    "import re\n",
    "from bs4 import BeautifulSoup \n",
    "import pandas as pd\n",
    "import lxml\n",
    "\n",
    "import numpy as np\n",
    "import matplotlib\n",
    "import matplotlib.pyplot as plt\n",
    "\n",
    "import requests\n",
    "import wget\n",
    "import glob\n",
    "import time\n",
    "import seaborn as sns\n",
    "from matplotlib import rcParams\n",
    "import matplotlib.pyplot as plt\n",
    "\n",
    "import gpxpy \n",
    "import gpxpy.gpx \n",
    "import glob\n"
   ]
  },
  {
   "cell_type": "markdown",
   "metadata": {},
   "source": [
    "# Read Me\n",
    "\n",
    "This project scrapes a popular hiking website for trail data. The program loops through each page and collects relevant information contained in HTML tags for each trail and stores it into a dictionary. This notebook is part of a larger project uses trail GPS data and weather data to determine if a trail will be snowey or not. This notebook focuses on extracting trail data and cleaning it for future use. This notebook provides 2 deliverables that will be used in consecutive notebooks\n",
    "    1. CSV with trail data (such as length and elevation)\n",
    "    2. CSV with GPS data "
   ]
  },
  {
   "cell_type": "markdown",
   "metadata": {},
   "source": [
    "# 1  Data scraping and cleaning\n",
    "\n",
    "This code will scrape the first 10 pages of trail data. It can be modified to do all of the pages, but that was not needed for this demonstration. Prepare to scrape the Bergfex.com website in order to create Pandas dataframes that contain important information about each trail. This code uses BeautifulSoup to parse the html tags into json, which is easier to work with. A for-loop iterates over each html tag and adds the corresponding information into empty lists. "
   ]
  },
  {
   "cell_type": "code",
   "execution_count": 27,
   "metadata": {},
   "outputs": [],
   "source": [
    "title = []  \n",
    "difficulty = []\n",
    "sport = []  \n",
    "length = []  \n",
    "time_list = [] \n",
    "climb = []  \n",
    "minmax = []     # minimum and maximum altitude of the tour in M\n",
    "technique = []  # technique difficulty ratings (out of 6)\n",
    "fitness = []    # fitness difficulty ratings (out of 6)\n",
    "total_title = [] # will help extracting the ID of the tour\n",
    "\n",
    "rating = [] "
   ]
  },
  {
   "cell_type": "markdown",
   "metadata": {},
   "source": [
    "## 1.1 Extract information from HTML tags\n",
    "Loop over the tags on each page and add information to the corresponding list created above. All of the information used was wrapped in a div tag called 'touren-details'"
   ]
  },
  {
   "cell_type": "code",
   "execution_count": 28,
   "metadata": {},
   "outputs": [
    {
     "name": "stdout",
     "output_type": "stream",
     "text": [
      "scraped page 1\n",
      "scraped page 2\n",
      "scraped page 3\n",
      "scraped page 4\n",
      "scraped page 5\n",
      "scraped page 6\n",
      "scraped page 7\n",
      "scraped page 8\n",
      "scraped page 9\n",
      "scraped page 10\n",
      "scraped page 11\n",
      "scraped page 12\n",
      "scraped page 13\n",
      "scraped page 14\n",
      "scraped page 15\n",
      "scraped page 16\n",
      "scraped page 17\n",
      "scraped page 18\n",
      "scraped page 19\n",
      "scraped page 20\n"
     ]
    }
   ],
   "source": [
    "page_number = 20  # number of pages to be scraped\n",
    "\n",
    "# loop over each page\n",
    "for p in range(1, (page_number + 1)):\n",
    "    base_link = 'https://www.bergfex.com/sommer/bern-region/touren/?isAjax=1&page='\n",
    "    link = base_link + str(p)  # each URL is accessed by appending the page number\n",
    "    page = requests.get(link, timeout=5)\n",
    "    print(\"scraped page\", p)\n",
    "    soup = BeautifulSoup(page.content, \"html.parser\")  \n",
    "    tours = soup.findAll('div', {'class': 'touren-detail'})  # checks for the separate tours on the page\n",
    "\n",
    "    # Loop over each tour and fill append data to each list that was created in the previous cell\n",
    "    for i in range(0,len(tours)):\n",
    "        tour_1 = tours[i] \n",
    "\n",
    "        # Extract title\n",
    "        tour_title = tour_1.findAll('a' ) \n",
    "        title.append([info.get_text().strip() for info in tour_title])\n",
    "        total_title.append(tour_title) \n",
    "        \n",
    "        # Extract tour level difficulty\n",
    "        tour_diff = tour_1.findAll('span', {'class': 'tour-difficulty'}) \n",
    "        difficulty.append([info.get_text().strip() for info in tour_diff])\n",
    "\n",
    "        # Extract sports (should all be hiking, as that is what was searched for)\n",
    "        tour_type = tour_1.findAll('span', {'class': 'tour-type'}) \n",
    "        sport.append([info.get_text().strip() for info in tour_type])\n",
    "\n",
    "        # Extract stats related to the tour. There are 4 stats nested in this div tag\n",
    "        tour_stats = tour_1.findAll('div', {'class': 'tour-stats'}) \n",
    "        stat_text = [info.get_text().strip() for info in tour_stats]\n",
    "        length.append(stat_text[0])\n",
    "        time_list.append(stat_text[1])\n",
    "        climb.append(stat_text[2])\n",
    "        minmax.append(stat_text[3])\n",
    "        \n",
    "        # Extract rating data\n",
    "        tour_rating = tour_1.find_all(\"div\", {'class': 'tour-rating'}) \n",
    "        rating.append([info for info in tour_rating])   # it's a class name so we can't get_text."
   ]
  },
  {
   "cell_type": "code",
   "execution_count": 29,
   "metadata": {},
   "outputs": [
    {
     "name": "stdout",
     "output_type": "stream",
     "text": [
      "number of tours collected: 400\n"
     ]
    }
   ],
   "source": [
    "print(\"number of tours collected:\", len(title))"
   ]
  },
  {
   "cell_type": "markdown",
   "metadata": {},
   "source": [
    "### 1.2 Extracting embedded HTML tags:\n",
    "Each trail name and ID was used in Bergfex's URL. Using the trail ID in the dataframe will provide a unique ID to use later in the analysis. However, those two data points are embedded deeper in the html code which is extracted using a for loop. "
   ]
  },
  {
   "cell_type": "code",
   "execution_count": 30,
   "metadata": {
    "scrolled": true
   },
   "outputs": [],
   "source": [
    "links_title = []\n",
    "\n",
    "for i in total_title:\n",
    "    i = str(i)\n",
    "    i = i.strip('[]')\n",
    "    links_title.append(i)"
   ]
  },
  {
   "cell_type": "markdown",
   "metadata": {},
   "source": [
    "In order to make the trail ID usable it needs to be cleaned up and converted into a string"
   ]
  },
  {
   "cell_type": "code",
   "execution_count": 31,
   "metadata": {},
   "outputs": [],
   "source": [
    "# Extracting ID\n",
    "\n",
    "id_df3 = pd.DataFrame(links_title)\n",
    "id_df2 = id_df3[0].str.split(' ',expand = True)\n",
    "id_df1 = id_df2[2].str.split(',',expand = True)\n",
    "id_df = id_df1[0].str.split('/',expand = True)"
   ]
  },
  {
   "cell_type": "code",
   "execution_count": 32,
   "metadata": {},
   "outputs": [
    {
     "data": {
      "text/html": [
       "<div>\n",
       "<style scoped>\n",
       "    .dataframe tbody tr th:only-of-type {\n",
       "        vertical-align: middle;\n",
       "    }\n",
       "\n",
       "    .dataframe tbody tr th {\n",
       "        vertical-align: top;\n",
       "    }\n",
       "\n",
       "    .dataframe thead th {\n",
       "        text-align: right;\n",
       "    }\n",
       "</style>\n",
       "<table border=\"1\" class=\"dataframe\">\n",
       "  <thead>\n",
       "    <tr style=\"text-align: right;\">\n",
       "      <th></th>\n",
       "      <th>0</th>\n",
       "    </tr>\n",
       "  </thead>\n",
       "  <tbody>\n",
       "    <tr>\n",
       "      <th>0</th>\n",
       "      <td>&lt;a class=\"h2\" href=\"/sommer/bern-region/touren/wanderung/812684,engstligenalp--dossenseeli--engs...</td>\n",
       "    </tr>\n",
       "    <tr>\n",
       "      <th>1</th>\n",
       "      <td>&lt;a class=\"h2\" href=\"/sommer/bern-region/touren/wanderung/70037,ueber-die-buetschelegg/\" title=\"Ü...</td>\n",
       "    </tr>\n",
       "    <tr>\n",
       "      <th>2</th>\n",
       "      <td>&lt;a class=\"h2\" href=\"/sommer/bern-region/touren/rennrad/131669,tour-de-gastlosen-saanen--mittelbe...</td>\n",
       "    </tr>\n",
       "    <tr>\n",
       "      <th>3</th>\n",
       "      <td>&lt;a class=\"h2\" href=\"/sommer/bern-region/touren/schneeschuh/70018,jaunpass-trail--boltigen/\" titl...</td>\n",
       "    </tr>\n",
       "    <tr>\n",
       "      <th>4</th>\n",
       "      <td>&lt;a class=\"h2\" href=\"/sommer/bern-region/touren/themenweg/131616,obersimmentaler-hausweg/\" title=...</td>\n",
       "    </tr>\n",
       "  </tbody>\n",
       "</table>\n",
       "</div>"
      ],
      "text/plain": [
       "                                                                                                     0\n",
       "0  <a class=\"h2\" href=\"/sommer/bern-region/touren/wanderung/812684,engstligenalp--dossenseeli--engs...\n",
       "1  <a class=\"h2\" href=\"/sommer/bern-region/touren/wanderung/70037,ueber-die-buetschelegg/\" title=\"Ü...\n",
       "2  <a class=\"h2\" href=\"/sommer/bern-region/touren/rennrad/131669,tour-de-gastlosen-saanen--mittelbe...\n",
       "3  <a class=\"h2\" href=\"/sommer/bern-region/touren/schneeschuh/70018,jaunpass-trail--boltigen/\" titl...\n",
       "4  <a class=\"h2\" href=\"/sommer/bern-region/touren/themenweg/131616,obersimmentaler-hausweg/\" title=..."
      ]
     },
     "execution_count": 32,
     "metadata": {},
     "output_type": "execute_result"
    }
   ],
   "source": [
    "# from this format:\n",
    "\n",
    "pd.options.display.max_colwidth = 100\n",
    "id_df3.head()"
   ]
  },
  {
   "cell_type": "code",
   "execution_count": 33,
   "metadata": {},
   "outputs": [
    {
     "data": {
      "text/html": [
       "<div>\n",
       "<style scoped>\n",
       "    .dataframe tbody tr th:only-of-type {\n",
       "        vertical-align: middle;\n",
       "    }\n",
       "\n",
       "    .dataframe tbody tr th {\n",
       "        vertical-align: top;\n",
       "    }\n",
       "\n",
       "    .dataframe thead th {\n",
       "        text-align: right;\n",
       "    }\n",
       "</style>\n",
       "<table border=\"1\" class=\"dataframe\">\n",
       "  <thead>\n",
       "    <tr style=\"text-align: right;\">\n",
       "      <th></th>\n",
       "      <th>0</th>\n",
       "      <th>1</th>\n",
       "      <th>2</th>\n",
       "      <th>3</th>\n",
       "      <th>4</th>\n",
       "      <th>5</th>\n",
       "    </tr>\n",
       "  </thead>\n",
       "  <tbody>\n",
       "    <tr>\n",
       "      <th>0</th>\n",
       "      <td>href=\"</td>\n",
       "      <td>sommer</td>\n",
       "      <td>bern-region</td>\n",
       "      <td>touren</td>\n",
       "      <td>wanderung</td>\n",
       "      <td>812684</td>\n",
       "    </tr>\n",
       "    <tr>\n",
       "      <th>1</th>\n",
       "      <td>href=\"</td>\n",
       "      <td>sommer</td>\n",
       "      <td>bern-region</td>\n",
       "      <td>touren</td>\n",
       "      <td>wanderung</td>\n",
       "      <td>70037</td>\n",
       "    </tr>\n",
       "    <tr>\n",
       "      <th>2</th>\n",
       "      <td>href=\"</td>\n",
       "      <td>sommer</td>\n",
       "      <td>bern-region</td>\n",
       "      <td>touren</td>\n",
       "      <td>rennrad</td>\n",
       "      <td>131669</td>\n",
       "    </tr>\n",
       "    <tr>\n",
       "      <th>3</th>\n",
       "      <td>href=\"</td>\n",
       "      <td>sommer</td>\n",
       "      <td>bern-region</td>\n",
       "      <td>touren</td>\n",
       "      <td>schneeschuh</td>\n",
       "      <td>70018</td>\n",
       "    </tr>\n",
       "    <tr>\n",
       "      <th>4</th>\n",
       "      <td>href=\"</td>\n",
       "      <td>sommer</td>\n",
       "      <td>bern-region</td>\n",
       "      <td>touren</td>\n",
       "      <td>themenweg</td>\n",
       "      <td>131616</td>\n",
       "    </tr>\n",
       "  </tbody>\n",
       "</table>\n",
       "</div>"
      ],
      "text/plain": [
       "        0       1            2       3            4       5\n",
       "0  href=\"  sommer  bern-region  touren    wanderung  812684\n",
       "1  href=\"  sommer  bern-region  touren    wanderung   70037\n",
       "2  href=\"  sommer  bern-region  touren      rennrad  131669\n",
       "3  href=\"  sommer  bern-region  touren  schneeschuh   70018\n",
       "4  href=\"  sommer  bern-region  touren    themenweg  131616"
      ]
     },
     "execution_count": 33,
     "metadata": {},
     "output_type": "execute_result"
    }
   ],
   "source": [
    "# to this format:\n",
    "id_df.head()"
   ]
  },
  {
   "cell_type": "markdown",
   "metadata": {},
   "source": [
    "### 1.3 Extracting embedded HTML tags\n",
    "The HTML tags for the fitness and technique ratings were embedded within Div class tags; they are extracted using a for loop and then stripped of unecessary characeters. \n",
    "- Convert the tour rating tag into a string\n",
    "- Strip away unecessary characters \n",
    "- Split into lists which look like rating_list[Technique, Fitness, Technique, Fitness]\n",
    "- Finally, convert into seperate lists for Technique and Fitness"
   ]
  },
  {
   "cell_type": "code",
   "execution_count": 34,
   "metadata": {},
   "outputs": [],
   "source": [
    " # rating[0]     # View the emmbedded DIV tag\n",
    "tour_rating_str = str(rating)\n",
    "rating_all_short = tour_rating_str.replace('<div class=\"tour-rating\">\\n<div class=\"tour-rating-label\">Technique</div>\\n<div class=\"rating-circles rating-max6\"><div class=\"','').replace('<div class=\"tour-rating\">\\n<div class=\"tour-rating-label\">Fitness</div>\\n<div class=\"rating-circles rating-max6\"><div class=\"','').replace('\"></div></div>\\n</div>',\"\")\n",
    "rating_even_shorter = rating_all_short.replace('[','').replace(']','')\n",
    "rating_list = rating_even_shorter.split(\", \")\n",
    "\n",
    "for i in range(0,(len(rating_list))):\n",
    "    if i == 0:\n",
    "        technique.append(rating_list[i]) # add first and second elements to technique list\n",
    "    elif i % 2 == 0:\n",
    "        technique.append(rating_list[i]) # then every second item as well\n",
    "    else:\n",
    "        fitness.append(rating_list[i]) # the other appended to fitness list"
   ]
  },
  {
   "cell_type": "markdown",
   "metadata": {},
   "source": [
    "### 1.4  Create dataframe for extracted elements\n",
    "\n",
    "This dataframe is not in the final stage yet as there are still extra brackets, the minimum and maximum elevation are still in one column, and units must be stripped away"
   ]
  },
  {
   "cell_type": "code",
   "execution_count": 35,
   "metadata": {},
   "outputs": [],
   "source": [
    "hikes_df = pd.DataFrame(\n",
    "    {'title': title,\n",
    "     'difficulty': difficulty,\n",
    "     'sport': sport,\n",
    "     'length': length,\n",
    "     'time': time_list,\n",
    "     'climb': climb,\n",
    "     'minmax': minmax,\n",
    "     'technique': technique,\n",
    "     'fitness': fitness\n",
    "    })"
   ]
  },
  {
   "cell_type": "code",
   "execution_count": 36,
   "metadata": {
    "scrolled": true
   },
   "outputs": [
    {
     "data": {
      "text/html": [
       "<div>\n",
       "<style scoped>\n",
       "    .dataframe tbody tr th:only-of-type {\n",
       "        vertical-align: middle;\n",
       "    }\n",
       "\n",
       "    .dataframe tbody tr th {\n",
       "        vertical-align: top;\n",
       "    }\n",
       "\n",
       "    .dataframe thead th {\n",
       "        text-align: right;\n",
       "    }\n",
       "</style>\n",
       "<table border=\"1\" class=\"dataframe\">\n",
       "  <thead>\n",
       "    <tr style=\"text-align: right;\">\n",
       "      <th></th>\n",
       "      <th>title</th>\n",
       "      <th>difficulty</th>\n",
       "      <th>sport</th>\n",
       "      <th>length</th>\n",
       "      <th>time</th>\n",
       "      <th>climb</th>\n",
       "      <th>minmax</th>\n",
       "      <th>technique</th>\n",
       "      <th>fitness</th>\n",
       "    </tr>\n",
       "  </thead>\n",
       "  <tbody>\n",
       "    <tr>\n",
       "      <th>0</th>\n",
       "      <td>[Engstligenalp – Dossenseeli – Engstligenalp (Seeli-Weg)]</td>\n",
       "      <td>[medium]</td>\n",
       "      <td>[Hiking]</td>\n",
       "      <td>8.18km</td>\n",
       "      <td>02:50h</td>\n",
       "      <td>483hm</td>\n",
       "      <td>1,937 - 2,343m</td>\n",
       "      <td>rating-4</td>\n",
       "      <td>rating-4</td>\n",
       "    </tr>\n",
       "    <tr>\n",
       "      <th>1</th>\n",
       "      <td>[Über die Bütschelegg]</td>\n",
       "      <td>[medium]</td>\n",
       "      <td>[Hiking]</td>\n",
       "      <td>10.1km</td>\n",
       "      <td>02:50h</td>\n",
       "      <td>446hm</td>\n",
       "      <td>784 - 1,035m</td>\n",
       "      <td>rating-1</td>\n",
       "      <td>rating-3</td>\n",
       "    </tr>\n",
       "    <tr>\n",
       "      <th>2</th>\n",
       "      <td>[Tour de Gastlosen: Saanen - Mittelbergpass - Abländschen - Jaunpass - Zweisimmen - Saanen]</td>\n",
       "      <td>[difficult]</td>\n",
       "      <td>[Racing]</td>\n",
       "      <td>62.14km</td>\n",
       "      <td>04:00h</td>\n",
       "      <td>1,658hm</td>\n",
       "      <td>824 - 1,634m</td>\n",
       "      <td>rating-2</td>\n",
       "      <td>rating-5</td>\n",
       "    </tr>\n",
       "    <tr>\n",
       "      <th>3</th>\n",
       "      <td>[Jaunpass Trail - Boltigen]</td>\n",
       "      <td>[medium]</td>\n",
       "      <td>[Snowshoe]</td>\n",
       "      <td>8.03km</td>\n",
       "      <td>03:20h</td>\n",
       "      <td>220hm</td>\n",
       "      <td>1,504 - 1,671m</td>\n",
       "      <td>rating-3</td>\n",
       "      <td>rating-4</td>\n",
       "    </tr>\n",
       "    <tr>\n",
       "      <th>4</th>\n",
       "      <td>[Obersimmentaler Hausweg]</td>\n",
       "      <td>[difficult]</td>\n",
       "      <td>[Thematic route]</td>\n",
       "      <td>20.57km</td>\n",
       "      <td>05:00h</td>\n",
       "      <td>600hm</td>\n",
       "      <td>815 - 1,073m</td>\n",
       "      <td>rating-2</td>\n",
       "      <td>rating-5</td>\n",
       "    </tr>\n",
       "    <tr>\n",
       "      <th>...</th>\n",
       "      <td>...</td>\n",
       "      <td>...</td>\n",
       "      <td>...</td>\n",
       "      <td>...</td>\n",
       "      <td>...</td>\n",
       "      <td>...</td>\n",
       "      <td>...</td>\n",
       "      <td>...</td>\n",
       "      <td>...</td>\n",
       "    </tr>\n",
       "    <tr>\n",
       "      <th>395</th>\n",
       "      <td>[Zur Tüfelsburdi auf dem Jolimont]</td>\n",
       "      <td>[easy]</td>\n",
       "      <td>[Hiking]</td>\n",
       "      <td>6.98km</td>\n",
       "      <td>02:00h</td>\n",
       "      <td>220hm</td>\n",
       "      <td>428 - 603m</td>\n",
       "      <td>rating-2</td>\n",
       "      <td>rating-2</td>\n",
       "    </tr>\n",
       "    <tr>\n",
       "      <th>396</th>\n",
       "      <td>[Rundwanderung auf der Elsigenalp]</td>\n",
       "      <td>[easy]</td>\n",
       "      <td>[Hiking]</td>\n",
       "      <td>4.06km</td>\n",
       "      <td>01:15h</td>\n",
       "      <td>142hm</td>\n",
       "      <td>1,792 - 1,934m</td>\n",
       "      <td>rating-1</td>\n",
       "      <td>rating-2</td>\n",
       "    </tr>\n",
       "    <tr>\n",
       "      <th>397</th>\n",
       "      <td>[Drei-Seen-Weg: Variante «Schlucht gesperrt»]</td>\n",
       "      <td>[easy]</td>\n",
       "      <td>[Pilgrimage]</td>\n",
       "      <td>2.52km</td>\n",
       "      <td>00:52h</td>\n",
       "      <td>138hm</td>\n",
       "      <td>516 - 659m</td>\n",
       "      <td>rating-</td>\n",
       "      <td>rating-1</td>\n",
       "    </tr>\n",
       "    <tr>\n",
       "      <th>398</th>\n",
       "      <td>[Grandiose Stille über dem Diemtigtal]</td>\n",
       "      <td>[difficult]</td>\n",
       "      <td>[Hiking]</td>\n",
       "      <td>16.59km</td>\n",
       "      <td>06:45h</td>\n",
       "      <td>1,400hm</td>\n",
       "      <td>1,027 - 2,299m</td>\n",
       "      <td>rating-4</td>\n",
       "      <td>rating-5</td>\n",
       "    </tr>\n",
       "    <tr>\n",
       "      <th>399</th>\n",
       "      <td>[Waldhäusern - beliebtes Ausflugsziel im Emmental]</td>\n",
       "      <td>[medium]</td>\n",
       "      <td>[Hiking]</td>\n",
       "      <td>9.63km</td>\n",
       "      <td>03:00h</td>\n",
       "      <td>373hm</td>\n",
       "      <td>673 - 1,007m</td>\n",
       "      <td>rating-2</td>\n",
       "      <td>rating-3</td>\n",
       "    </tr>\n",
       "  </tbody>\n",
       "</table>\n",
       "<p>400 rows × 9 columns</p>\n",
       "</div>"
      ],
      "text/plain": [
       "                                                                                           title  \\\n",
       "0                                      [Engstligenalp – Dossenseeli – Engstligenalp (Seeli-Weg)]   \n",
       "1                                                                         [Über die Bütschelegg]   \n",
       "2    [Tour de Gastlosen: Saanen - Mittelbergpass - Abländschen - Jaunpass - Zweisimmen - Saanen]   \n",
       "3                                                                    [Jaunpass Trail - Boltigen]   \n",
       "4                                                                      [Obersimmentaler Hausweg]   \n",
       "..                                                                                           ...   \n",
       "395                                                           [Zur Tüfelsburdi auf dem Jolimont]   \n",
       "396                                                           [Rundwanderung auf der Elsigenalp]   \n",
       "397                                                [Drei-Seen-Weg: Variante «Schlucht gesperrt»]   \n",
       "398                                                       [Grandiose Stille über dem Diemtigtal]   \n",
       "399                                           [Waldhäusern - beliebtes Ausflugsziel im Emmental]   \n",
       "\n",
       "      difficulty             sport   length    time    climb          minmax  \\\n",
       "0       [medium]          [Hiking]   8.18km  02:50h    483hm  1,937 - 2,343m   \n",
       "1       [medium]          [Hiking]   10.1km  02:50h    446hm    784 - 1,035m   \n",
       "2    [difficult]          [Racing]  62.14km  04:00h  1,658hm    824 - 1,634m   \n",
       "3       [medium]        [Snowshoe]   8.03km  03:20h    220hm  1,504 - 1,671m   \n",
       "4    [difficult]  [Thematic route]  20.57km  05:00h    600hm    815 - 1,073m   \n",
       "..           ...               ...      ...     ...      ...             ...   \n",
       "395       [easy]          [Hiking]   6.98km  02:00h    220hm      428 - 603m   \n",
       "396       [easy]          [Hiking]   4.06km  01:15h    142hm  1,792 - 1,934m   \n",
       "397       [easy]      [Pilgrimage]   2.52km  00:52h    138hm      516 - 659m   \n",
       "398  [difficult]          [Hiking]  16.59km  06:45h  1,400hm  1,027 - 2,299m   \n",
       "399     [medium]          [Hiking]   9.63km  03:00h    373hm    673 - 1,007m   \n",
       "\n",
       "    technique   fitness  \n",
       "0    rating-4  rating-4  \n",
       "1    rating-1  rating-3  \n",
       "2    rating-2  rating-5  \n",
       "3    rating-3  rating-4  \n",
       "4    rating-2  rating-5  \n",
       "..        ...       ...  \n",
       "395  rating-2  rating-2  \n",
       "396  rating-1  rating-2  \n",
       "397   rating-  rating-1  \n",
       "398  rating-4  rating-5  \n",
       "399  rating-2  rating-3  \n",
       "\n",
       "[400 rows x 9 columns]"
      ]
     },
     "execution_count": 36,
     "metadata": {},
     "output_type": "execute_result"
    }
   ],
   "source": [
    "hikes_df"
   ]
  },
  {
   "cell_type": "markdown",
   "metadata": {},
   "source": [
    "# 2  Data Cleaning\n",
    "As mentioned above, the dataframe still needs to be cleaned up."
   ]
  },
  {
   "cell_type": "markdown",
   "metadata": {},
   "source": [
    "### 2.1 Clean Categorical Data\n",
    "- Convert columns to strings\n",
    "- Remove brackets that are in the first 3 columnns\n",
    "- Remove extra whitespace"
   ]
  },
  {
   "cell_type": "code",
   "execution_count": 37,
   "metadata": {},
   "outputs": [],
   "source": [
    "# Converting the text columns to strings for easier handling later\n",
    "hikes_df[['title', 'difficulty', 'sport']] = hikes_df[['title', 'difficulty', 'sport']].astype('str')\n",
    "\n",
    "# Remove the brackets\n",
    "hikes_df['title'] = hikes_df['title'].str.strip('[]')\n",
    "hikes_df['difficulty'] = hikes_df['difficulty'].str.strip('[]')\n",
    "hikes_df['sport'] = hikes_df['sport'].str.strip('[]')\n",
    "\n",
    "# Remove extra whitespace\n",
    "hikes_df['title'] = pd.Series(hikes_df['title']).str.replace(\"'\", '')\n",
    "hikes_df['difficulty'] = pd.Series(hikes_df['difficulty']).str.replace(\"'\", '')\n",
    "hikes_df['sport'] = pd.Series(hikes_df['sport']).str.replace(\"'\", '')\n",
    "\n",
    "\n",
    "# Remove units (km, m, h, hm, m)\n",
    "hikes_df['length'] = pd.Series(hikes_df['length']).str.replace(\"km\", '')\n",
    "hikes_df['time'] = pd.Series(hikes_df['time']).str.replace(\"h\", '')\n",
    "hikes_df['climb'] = pd.Series(hikes_df['climb']).str.replace(\"hm\", '')\n",
    "hikes_df['minmax'] = pd.Series(hikes_df['minmax']).str.replace(\"m\", '')\n",
    "\n",
    "# Seperate the minmax altitude into a min column and a max column\n",
    "hikes_df[['min','max']] = hikes_df['minmax'].str.split(\"-\",expand=True)\n",
    "hikes_df = hikes_df.drop(columns=['minmax'])\n",
    "\n",
    "# Organize the dataframe columns\n",
    "hikes_df = hikes_df[['title', 'difficulty', 'sport', 'length', 'time', 'climb', 'min', 'max', 'technique', 'fitness']]"
   ]
  },
  {
   "cell_type": "code",
   "execution_count": 38,
   "metadata": {},
   "outputs": [
    {
     "data": {
      "text/html": [
       "<div>\n",
       "<style scoped>\n",
       "    .dataframe tbody tr th:only-of-type {\n",
       "        vertical-align: middle;\n",
       "    }\n",
       "\n",
       "    .dataframe tbody tr th {\n",
       "        vertical-align: top;\n",
       "    }\n",
       "\n",
       "    .dataframe thead th {\n",
       "        text-align: right;\n",
       "    }\n",
       "</style>\n",
       "<table border=\"1\" class=\"dataframe\">\n",
       "  <thead>\n",
       "    <tr style=\"text-align: right;\">\n",
       "      <th></th>\n",
       "      <th>title</th>\n",
       "      <th>difficulty</th>\n",
       "      <th>sport</th>\n",
       "      <th>length</th>\n",
       "      <th>time</th>\n",
       "      <th>climb</th>\n",
       "      <th>min</th>\n",
       "      <th>max</th>\n",
       "      <th>technique</th>\n",
       "      <th>fitness</th>\n",
       "    </tr>\n",
       "  </thead>\n",
       "  <tbody>\n",
       "    <tr>\n",
       "      <th>0</th>\n",
       "      <td>Engstligenalp – Dossenseeli – Engstligenalp (Seeli-Weg)</td>\n",
       "      <td>medium</td>\n",
       "      <td>Hiking</td>\n",
       "      <td>8.18</td>\n",
       "      <td>02:50</td>\n",
       "      <td>483</td>\n",
       "      <td>1,937</td>\n",
       "      <td>2,343</td>\n",
       "      <td>rating-4</td>\n",
       "      <td>rating-4</td>\n",
       "    </tr>\n",
       "    <tr>\n",
       "      <th>1</th>\n",
       "      <td>Über die Bütschelegg</td>\n",
       "      <td>medium</td>\n",
       "      <td>Hiking</td>\n",
       "      <td>10.1</td>\n",
       "      <td>02:50</td>\n",
       "      <td>446</td>\n",
       "      <td>784</td>\n",
       "      <td>1,035</td>\n",
       "      <td>rating-1</td>\n",
       "      <td>rating-3</td>\n",
       "    </tr>\n",
       "    <tr>\n",
       "      <th>2</th>\n",
       "      <td>Tour de Gastlosen: Saanen - Mittelbergpass - Abländschen - Jaunpass - Zweisimmen - Saanen</td>\n",
       "      <td>difficult</td>\n",
       "      <td>Racing</td>\n",
       "      <td>62.14</td>\n",
       "      <td>04:00</td>\n",
       "      <td>1,658</td>\n",
       "      <td>824</td>\n",
       "      <td>1,634</td>\n",
       "      <td>rating-2</td>\n",
       "      <td>rating-5</td>\n",
       "    </tr>\n",
       "    <tr>\n",
       "      <th>3</th>\n",
       "      <td>Jaunpass Trail - Boltigen</td>\n",
       "      <td>medium</td>\n",
       "      <td>Snowshoe</td>\n",
       "      <td>8.03</td>\n",
       "      <td>03:20</td>\n",
       "      <td>220</td>\n",
       "      <td>1,504</td>\n",
       "      <td>1,671</td>\n",
       "      <td>rating-3</td>\n",
       "      <td>rating-4</td>\n",
       "    </tr>\n",
       "    <tr>\n",
       "      <th>4</th>\n",
       "      <td>Obersimmentaler Hausweg</td>\n",
       "      <td>difficult</td>\n",
       "      <td>Thematic route</td>\n",
       "      <td>20.57</td>\n",
       "      <td>05:00</td>\n",
       "      <td>600</td>\n",
       "      <td>815</td>\n",
       "      <td>1,073</td>\n",
       "      <td>rating-2</td>\n",
       "      <td>rating-5</td>\n",
       "    </tr>\n",
       "    <tr>\n",
       "      <th>...</th>\n",
       "      <td>...</td>\n",
       "      <td>...</td>\n",
       "      <td>...</td>\n",
       "      <td>...</td>\n",
       "      <td>...</td>\n",
       "      <td>...</td>\n",
       "      <td>...</td>\n",
       "      <td>...</td>\n",
       "      <td>...</td>\n",
       "      <td>...</td>\n",
       "    </tr>\n",
       "    <tr>\n",
       "      <th>395</th>\n",
       "      <td>Zur Tüfelsburdi auf dem Jolimont</td>\n",
       "      <td>easy</td>\n",
       "      <td>Hiking</td>\n",
       "      <td>6.98</td>\n",
       "      <td>02:00</td>\n",
       "      <td>220</td>\n",
       "      <td>428</td>\n",
       "      <td>603</td>\n",
       "      <td>rating-2</td>\n",
       "      <td>rating-2</td>\n",
       "    </tr>\n",
       "    <tr>\n",
       "      <th>396</th>\n",
       "      <td>Rundwanderung auf der Elsigenalp</td>\n",
       "      <td>easy</td>\n",
       "      <td>Hiking</td>\n",
       "      <td>4.06</td>\n",
       "      <td>01:15</td>\n",
       "      <td>142</td>\n",
       "      <td>1,792</td>\n",
       "      <td>1,934</td>\n",
       "      <td>rating-1</td>\n",
       "      <td>rating-2</td>\n",
       "    </tr>\n",
       "    <tr>\n",
       "      <th>397</th>\n",
       "      <td>Drei-Seen-Weg: Variante «Schlucht gesperrt»</td>\n",
       "      <td>easy</td>\n",
       "      <td>Pilgrimage</td>\n",
       "      <td>2.52</td>\n",
       "      <td>00:52</td>\n",
       "      <td>138</td>\n",
       "      <td>516</td>\n",
       "      <td>659</td>\n",
       "      <td>rating-</td>\n",
       "      <td>rating-1</td>\n",
       "    </tr>\n",
       "    <tr>\n",
       "      <th>398</th>\n",
       "      <td>Grandiose Stille über dem Diemtigtal</td>\n",
       "      <td>difficult</td>\n",
       "      <td>Hiking</td>\n",
       "      <td>16.59</td>\n",
       "      <td>06:45</td>\n",
       "      <td>1,400</td>\n",
       "      <td>1,027</td>\n",
       "      <td>2,299</td>\n",
       "      <td>rating-4</td>\n",
       "      <td>rating-5</td>\n",
       "    </tr>\n",
       "    <tr>\n",
       "      <th>399</th>\n",
       "      <td>Waldhäusern - beliebtes Ausflugsziel im Emmental</td>\n",
       "      <td>medium</td>\n",
       "      <td>Hiking</td>\n",
       "      <td>9.63</td>\n",
       "      <td>03:00</td>\n",
       "      <td>373</td>\n",
       "      <td>673</td>\n",
       "      <td>1,007</td>\n",
       "      <td>rating-2</td>\n",
       "      <td>rating-3</td>\n",
       "    </tr>\n",
       "  </tbody>\n",
       "</table>\n",
       "<p>400 rows × 10 columns</p>\n",
       "</div>"
      ],
      "text/plain": [
       "                                                                                         title  \\\n",
       "0                                      Engstligenalp – Dossenseeli – Engstligenalp (Seeli-Weg)   \n",
       "1                                                                         Über die Bütschelegg   \n",
       "2    Tour de Gastlosen: Saanen - Mittelbergpass - Abländschen - Jaunpass - Zweisimmen - Saanen   \n",
       "3                                                                    Jaunpass Trail - Boltigen   \n",
       "4                                                                      Obersimmentaler Hausweg   \n",
       "..                                                                                         ...   \n",
       "395                                                           Zur Tüfelsburdi auf dem Jolimont   \n",
       "396                                                           Rundwanderung auf der Elsigenalp   \n",
       "397                                                Drei-Seen-Weg: Variante «Schlucht gesperrt»   \n",
       "398                                                       Grandiose Stille über dem Diemtigtal   \n",
       "399                                           Waldhäusern - beliebtes Ausflugsziel im Emmental   \n",
       "\n",
       "    difficulty           sport length   time  climb     min     max technique  \\\n",
       "0       medium          Hiking   8.18  02:50    483  1,937    2,343  rating-4   \n",
       "1       medium          Hiking   10.1  02:50    446    784    1,035  rating-1   \n",
       "2    difficult          Racing  62.14  04:00  1,658    824    1,634  rating-2   \n",
       "3       medium        Snowshoe   8.03  03:20    220  1,504    1,671  rating-3   \n",
       "4    difficult  Thematic route  20.57  05:00    600    815    1,073  rating-2   \n",
       "..         ...             ...    ...    ...    ...     ...     ...       ...   \n",
       "395       easy          Hiking   6.98  02:00    220    428      603  rating-2   \n",
       "396       easy          Hiking   4.06  01:15    142  1,792    1,934  rating-1   \n",
       "397       easy      Pilgrimage   2.52  00:52    138    516      659   rating-   \n",
       "398  difficult          Hiking  16.59  06:45  1,400  1,027    2,299  rating-4   \n",
       "399     medium          Hiking   9.63  03:00    373    673    1,007  rating-2   \n",
       "\n",
       "      fitness  \n",
       "0    rating-4  \n",
       "1    rating-3  \n",
       "2    rating-5  \n",
       "3    rating-4  \n",
       "4    rating-5  \n",
       "..        ...  \n",
       "395  rating-2  \n",
       "396  rating-2  \n",
       "397  rating-1  \n",
       "398  rating-5  \n",
       "399  rating-3  \n",
       "\n",
       "[400 rows x 10 columns]"
      ]
     },
     "execution_count": 38,
     "metadata": {},
     "output_type": "execute_result"
    }
   ],
   "source": [
    "hikes_df"
   ]
  },
  {
   "cell_type": "markdown",
   "metadata": {},
   "source": [
    "### 2.2 Clean Numerical Data\n",
    "\n",
    "In order to normalize data for analysis, we must preform the following steps:\n",
    "\n",
    "-  Replace missing numerical data with 0\n",
    "-  Remove commas\n",
    "-  Remove \"-\"\n",
    "-  Remove unnecessary words (\"rating-\")\n"
   ]
  },
  {
   "cell_type": "code",
   "execution_count": 39,
   "metadata": {},
   "outputs": [],
   "source": [
    "hikes_df['length'] = (hikes_df['length']).astype(float)\n",
    "\n",
    "hikes_df['climb'] = pd.Series(hikes_df['climb']).str.replace(\",\", '') \n",
    "hikes_df['climb'] = pd.Series(hikes_df['climb']).str.replace(\"-\", '0') \n",
    "hikes_df['climb'] = (hikes_df['climb']).astype(int)\n",
    "\n",
    "hikes_df['min'] = pd.Series(hikes_df['min']).str.replace(\",\", '') \n",
    "hikes_df['min'] = (hikes_df['min']).astype(int)\n",
    "hikes_df['max'] = pd.Series(hikes_df['max']).str.replace(\",\", '') \n",
    "hikes_df['max'] = (hikes_df['max']).astype(int)\n",
    "\n",
    "hikes_df['technique'] = pd.Series(hikes_df['technique']).str.replace(\"rating-\", '')\n",
    "hikes_df['technique'] = pd.to_numeric(hikes_df['technique'], errors='coerce')\n",
    "hikes_df['technique'] = pd.Series(hikes_df['technique']).replace(np.nan, 0, regex = True)\n",
    "hikes_df['technique'] = pd.Series(hikes_df['technique']).astype('int')\n",
    "\n",
    "hikes_df['fitness'] = pd.Series(hikes_df['fitness']).str.replace(\"rating-\", '')\n",
    "hikes_df['fitness'] = pd.to_numeric(hikes_df['fitness'], errors='coerce')\n",
    "hikes_df['fitness'] = pd.Series(hikes_df['fitness']).replace(np.nan, 0, regex = True)\n",
    "hikes_df['fitness'] = hikes_df['fitness'].astype('int')"
   ]
  },
  {
   "cell_type": "markdown",
   "metadata": {},
   "source": [
    "### 2.3 Clean Time Data\n",
    "Some of the hikes can register times >24 hours, and this causes Pandas to throw an error. This is handled by using Try/Except"
   ]
  },
  {
   "cell_type": "code",
   "execution_count": 40,
   "metadata": {},
   "outputs": [],
   "source": [
    "try:\n",
    "    hikes_df['time'] = pd.to_datetime(hikes_df['time'], format='%H:%M').dt.time_list\n",
    "except ValueError:\n",
    "    pass"
   ]
  },
  {
   "cell_type": "markdown",
   "metadata": {},
   "source": [
    "### 2.4 Final check of DataFrame\n",
    "Double check for null values. It looks pretty good!  Now it's time to start analysis. "
   ]
  },
  {
   "cell_type": "code",
   "execution_count": 41,
   "metadata": {},
   "outputs": [
    {
     "data": {
      "text/html": [
       "<div>\n",
       "<style scoped>\n",
       "    .dataframe tbody tr th:only-of-type {\n",
       "        vertical-align: middle;\n",
       "    }\n",
       "\n",
       "    .dataframe tbody tr th {\n",
       "        vertical-align: top;\n",
       "    }\n",
       "\n",
       "    .dataframe thead th {\n",
       "        text-align: right;\n",
       "    }\n",
       "</style>\n",
       "<table border=\"1\" class=\"dataframe\">\n",
       "  <thead>\n",
       "    <tr style=\"text-align: right;\">\n",
       "      <th></th>\n",
       "      <th>title</th>\n",
       "      <th>difficulty</th>\n",
       "      <th>sport</th>\n",
       "      <th>length</th>\n",
       "      <th>time</th>\n",
       "      <th>climb</th>\n",
       "      <th>min</th>\n",
       "      <th>max</th>\n",
       "      <th>technique</th>\n",
       "      <th>fitness</th>\n",
       "    </tr>\n",
       "  </thead>\n",
       "  <tbody>\n",
       "    <tr>\n",
       "      <th>0</th>\n",
       "      <td>Engstligenalp – Dossenseeli – Engstligenalp (Seeli-Weg)</td>\n",
       "      <td>medium</td>\n",
       "      <td>Hiking</td>\n",
       "      <td>8.18</td>\n",
       "      <td>02:50</td>\n",
       "      <td>483</td>\n",
       "      <td>1937</td>\n",
       "      <td>2343</td>\n",
       "      <td>4</td>\n",
       "      <td>4</td>\n",
       "    </tr>\n",
       "    <tr>\n",
       "      <th>1</th>\n",
       "      <td>Über die Bütschelegg</td>\n",
       "      <td>medium</td>\n",
       "      <td>Hiking</td>\n",
       "      <td>10.10</td>\n",
       "      <td>02:50</td>\n",
       "      <td>446</td>\n",
       "      <td>784</td>\n",
       "      <td>1035</td>\n",
       "      <td>1</td>\n",
       "      <td>3</td>\n",
       "    </tr>\n",
       "    <tr>\n",
       "      <th>2</th>\n",
       "      <td>Tour de Gastlosen: Saanen - Mittelbergpass - Abländschen - Jaunpass - Zweisimmen - Saanen</td>\n",
       "      <td>difficult</td>\n",
       "      <td>Racing</td>\n",
       "      <td>62.14</td>\n",
       "      <td>04:00</td>\n",
       "      <td>1658</td>\n",
       "      <td>824</td>\n",
       "      <td>1634</td>\n",
       "      <td>2</td>\n",
       "      <td>5</td>\n",
       "    </tr>\n",
       "    <tr>\n",
       "      <th>3</th>\n",
       "      <td>Jaunpass Trail - Boltigen</td>\n",
       "      <td>medium</td>\n",
       "      <td>Snowshoe</td>\n",
       "      <td>8.03</td>\n",
       "      <td>03:20</td>\n",
       "      <td>220</td>\n",
       "      <td>1504</td>\n",
       "      <td>1671</td>\n",
       "      <td>3</td>\n",
       "      <td>4</td>\n",
       "    </tr>\n",
       "    <tr>\n",
       "      <th>4</th>\n",
       "      <td>Obersimmentaler Hausweg</td>\n",
       "      <td>difficult</td>\n",
       "      <td>Thematic route</td>\n",
       "      <td>20.57</td>\n",
       "      <td>05:00</td>\n",
       "      <td>600</td>\n",
       "      <td>815</td>\n",
       "      <td>1073</td>\n",
       "      <td>2</td>\n",
       "      <td>5</td>\n",
       "    </tr>\n",
       "    <tr>\n",
       "      <th>...</th>\n",
       "      <td>...</td>\n",
       "      <td>...</td>\n",
       "      <td>...</td>\n",
       "      <td>...</td>\n",
       "      <td>...</td>\n",
       "      <td>...</td>\n",
       "      <td>...</td>\n",
       "      <td>...</td>\n",
       "      <td>...</td>\n",
       "      <td>...</td>\n",
       "    </tr>\n",
       "    <tr>\n",
       "      <th>395</th>\n",
       "      <td>Zur Tüfelsburdi auf dem Jolimont</td>\n",
       "      <td>easy</td>\n",
       "      <td>Hiking</td>\n",
       "      <td>6.98</td>\n",
       "      <td>02:00</td>\n",
       "      <td>220</td>\n",
       "      <td>428</td>\n",
       "      <td>603</td>\n",
       "      <td>2</td>\n",
       "      <td>2</td>\n",
       "    </tr>\n",
       "    <tr>\n",
       "      <th>396</th>\n",
       "      <td>Rundwanderung auf der Elsigenalp</td>\n",
       "      <td>easy</td>\n",
       "      <td>Hiking</td>\n",
       "      <td>4.06</td>\n",
       "      <td>01:15</td>\n",
       "      <td>142</td>\n",
       "      <td>1792</td>\n",
       "      <td>1934</td>\n",
       "      <td>1</td>\n",
       "      <td>2</td>\n",
       "    </tr>\n",
       "    <tr>\n",
       "      <th>397</th>\n",
       "      <td>Drei-Seen-Weg: Variante «Schlucht gesperrt»</td>\n",
       "      <td>easy</td>\n",
       "      <td>Pilgrimage</td>\n",
       "      <td>2.52</td>\n",
       "      <td>00:52</td>\n",
       "      <td>138</td>\n",
       "      <td>516</td>\n",
       "      <td>659</td>\n",
       "      <td>0</td>\n",
       "      <td>1</td>\n",
       "    </tr>\n",
       "    <tr>\n",
       "      <th>398</th>\n",
       "      <td>Grandiose Stille über dem Diemtigtal</td>\n",
       "      <td>difficult</td>\n",
       "      <td>Hiking</td>\n",
       "      <td>16.59</td>\n",
       "      <td>06:45</td>\n",
       "      <td>1400</td>\n",
       "      <td>1027</td>\n",
       "      <td>2299</td>\n",
       "      <td>4</td>\n",
       "      <td>5</td>\n",
       "    </tr>\n",
       "    <tr>\n",
       "      <th>399</th>\n",
       "      <td>Waldhäusern - beliebtes Ausflugsziel im Emmental</td>\n",
       "      <td>medium</td>\n",
       "      <td>Hiking</td>\n",
       "      <td>9.63</td>\n",
       "      <td>03:00</td>\n",
       "      <td>373</td>\n",
       "      <td>673</td>\n",
       "      <td>1007</td>\n",
       "      <td>2</td>\n",
       "      <td>3</td>\n",
       "    </tr>\n",
       "  </tbody>\n",
       "</table>\n",
       "<p>400 rows × 10 columns</p>\n",
       "</div>"
      ],
      "text/plain": [
       "                                                                                         title  \\\n",
       "0                                      Engstligenalp – Dossenseeli – Engstligenalp (Seeli-Weg)   \n",
       "1                                                                         Über die Bütschelegg   \n",
       "2    Tour de Gastlosen: Saanen - Mittelbergpass - Abländschen - Jaunpass - Zweisimmen - Saanen   \n",
       "3                                                                    Jaunpass Trail - Boltigen   \n",
       "4                                                                      Obersimmentaler Hausweg   \n",
       "..                                                                                         ...   \n",
       "395                                                           Zur Tüfelsburdi auf dem Jolimont   \n",
       "396                                                           Rundwanderung auf der Elsigenalp   \n",
       "397                                                Drei-Seen-Weg: Variante «Schlucht gesperrt»   \n",
       "398                                                       Grandiose Stille über dem Diemtigtal   \n",
       "399                                           Waldhäusern - beliebtes Ausflugsziel im Emmental   \n",
       "\n",
       "    difficulty           sport  length   time  climb   min   max  technique  \\\n",
       "0       medium          Hiking    8.18  02:50    483  1937  2343          4   \n",
       "1       medium          Hiking   10.10  02:50    446   784  1035          1   \n",
       "2    difficult          Racing   62.14  04:00   1658   824  1634          2   \n",
       "3       medium        Snowshoe    8.03  03:20    220  1504  1671          3   \n",
       "4    difficult  Thematic route   20.57  05:00    600   815  1073          2   \n",
       "..         ...             ...     ...    ...    ...   ...   ...        ...   \n",
       "395       easy          Hiking    6.98  02:00    220   428   603          2   \n",
       "396       easy          Hiking    4.06  01:15    142  1792  1934          1   \n",
       "397       easy      Pilgrimage    2.52  00:52    138   516   659          0   \n",
       "398  difficult          Hiking   16.59  06:45   1400  1027  2299          4   \n",
       "399     medium          Hiking    9.63  03:00    373   673  1007          2   \n",
       "\n",
       "     fitness  \n",
       "0          4  \n",
       "1          3  \n",
       "2          5  \n",
       "3          4  \n",
       "4          5  \n",
       "..       ...  \n",
       "395        2  \n",
       "396        2  \n",
       "397        1  \n",
       "398        5  \n",
       "399        3  \n",
       "\n",
       "[400 rows x 10 columns]"
      ]
     },
     "execution_count": 41,
     "metadata": {},
     "output_type": "execute_result"
    }
   ],
   "source": [
    "hikes_df"
   ]
  },
  {
   "cell_type": "code",
   "execution_count": 42,
   "metadata": {},
   "outputs": [
    {
     "name": "stdout",
     "output_type": "stream",
     "text": [
      "<class 'pandas.core.frame.DataFrame'>\n",
      "RangeIndex: 400 entries, 0 to 399\n",
      "Data columns (total 10 columns):\n",
      " #   Column      Non-Null Count  Dtype  \n",
      "---  ------      --------------  -----  \n",
      " 0   title       400 non-null    object \n",
      " 1   difficulty  400 non-null    object \n",
      " 2   sport       400 non-null    object \n",
      " 3   length      400 non-null    float64\n",
      " 4   time        400 non-null    object \n",
      " 5   climb       400 non-null    int64  \n",
      " 6   min         400 non-null    int64  \n",
      " 7   max         400 non-null    int64  \n",
      " 8   technique   400 non-null    int64  \n",
      " 9   fitness     400 non-null    int64  \n",
      "dtypes: float64(1), int64(5), object(4)\n",
      "memory usage: 31.4+ KB\n"
     ]
    }
   ],
   "source": [
    "hikes_df.info()"
   ]
  },
  {
   "cell_type": "markdown",
   "metadata": {},
   "source": [
    "### 2.5 Write CSV\n",
    "\n",
    "Now that the data has been cleaned properly, let's save the dataframe to a CSV for future use and hash out the scraping code in 1.1. Otherwise if you rerun the Kernel too often, there is a risk of being blocked by the website."
   ]
  },
  {
   "cell_type": "code",
   "execution_count": 43,
   "metadata": {},
   "outputs": [],
   "source": [
    "hikes_df.to_csv(\"hikes.csv\", index=False)"
   ]
  },
  {
   "cell_type": "markdown",
   "metadata": {},
   "source": [
    "# 3  Initial Data Analysis\n",
    "\n",
    "Before moving onto combining weather data with hiking trails, lets do some preliminary data analysis to see what we are working with."
   ]
  },
  {
   "cell_type": "code",
   "execution_count": 44,
   "metadata": {},
   "outputs": [],
   "source": [
    "plt.style.use('fivethirtyeight')\n",
    "rcParams['figure.figsize'] = 10, 8"
   ]
  },
  {
   "cell_type": "markdown",
   "metadata": {},
   "source": [
    "### 3.1 Data Exploration \n",
    "\n",
    "We will begin the data analysis by data exploration. By creating different data frames and removing activities with little data to improve visualizations we can get a better idea of what types of trails we are working with. \n",
    "\n",
    "Here we can see that cycling, racing, and long-distance walking are much longer than the other types of trails. Another helpful tool this DataFrame provides is that we can now view the least used trail types in the dataset. These are going to be removed for the next few analysis steps so it's easier to look at the interesting trail statistics."
   ]
  },
  {
   "cell_type": "code",
   "execution_count": 45,
   "metadata": {},
   "outputs": [
    {
     "data": {
      "text/html": [
       "<div>\n",
       "<style scoped>\n",
       "    .dataframe tbody tr th:only-of-type {\n",
       "        vertical-align: middle;\n",
       "    }\n",
       "\n",
       "    .dataframe tbody tr th {\n",
       "        vertical-align: top;\n",
       "    }\n",
       "\n",
       "    .dataframe thead th {\n",
       "        text-align: right;\n",
       "    }\n",
       "</style>\n",
       "<table border=\"1\" class=\"dataframe\">\n",
       "  <thead>\n",
       "    <tr style=\"text-align: right;\">\n",
       "      <th></th>\n",
       "      <th>sport</th>\n",
       "      <th>count</th>\n",
       "      <th>average_length</th>\n",
       "    </tr>\n",
       "  </thead>\n",
       "  <tbody>\n",
       "    <tr>\n",
       "      <th>14</th>\n",
       "      <td>Via ferrata</td>\n",
       "      <td>2</td>\n",
       "      <td>1.755000</td>\n",
       "    </tr>\n",
       "    <tr>\n",
       "      <th>10</th>\n",
       "      <td>Sledge</td>\n",
       "      <td>2</td>\n",
       "      <td>4.995000</td>\n",
       "    </tr>\n",
       "    <tr>\n",
       "      <th>15</th>\n",
       "      <td>Winter hiking</td>\n",
       "      <td>11</td>\n",
       "      <td>5.298182</td>\n",
       "    </tr>\n",
       "    <tr>\n",
       "      <th>5</th>\n",
       "      <td>Nordic Walking</td>\n",
       "      <td>2</td>\n",
       "      <td>5.905000</td>\n",
       "    </tr>\n",
       "    <tr>\n",
       "      <th>11</th>\n",
       "      <td>Snowshoe</td>\n",
       "      <td>15</td>\n",
       "      <td>5.931333</td>\n",
       "    </tr>\n",
       "    <tr>\n",
       "      <th>9</th>\n",
       "      <td>Ski-Freeride</td>\n",
       "      <td>2</td>\n",
       "      <td>7.970000</td>\n",
       "    </tr>\n",
       "    <tr>\n",
       "      <th>12</th>\n",
       "      <td>Thematic route</td>\n",
       "      <td>23</td>\n",
       "      <td>9.576957</td>\n",
       "    </tr>\n",
       "    <tr>\n",
       "      <th>8</th>\n",
       "      <td>Running</td>\n",
       "      <td>1</td>\n",
       "      <td>9.860000</td>\n",
       "    </tr>\n",
       "    <tr>\n",
       "      <th>13</th>\n",
       "      <td>Trailrunning</td>\n",
       "      <td>5</td>\n",
       "      <td>11.908000</td>\n",
       "    </tr>\n",
       "    <tr>\n",
       "      <th>2</th>\n",
       "      <td>Hiking</td>\n",
       "      <td>289</td>\n",
       "      <td>12.510865</td>\n",
       "    </tr>\n",
       "    <tr>\n",
       "      <th>6</th>\n",
       "      <td>Pilgrimage</td>\n",
       "      <td>12</td>\n",
       "      <td>14.612500</td>\n",
       "    </tr>\n",
       "    <tr>\n",
       "      <th>4</th>\n",
       "      <td>Mountainbike</td>\n",
       "      <td>15</td>\n",
       "      <td>26.754667</td>\n",
       "    </tr>\n",
       "    <tr>\n",
       "      <th>3</th>\n",
       "      <td>Long distance cycling</td>\n",
       "      <td>1</td>\n",
       "      <td>31.430000</td>\n",
       "    </tr>\n",
       "    <tr>\n",
       "      <th>0</th>\n",
       "      <td>Cycling</td>\n",
       "      <td>12</td>\n",
       "      <td>33.103333</td>\n",
       "    </tr>\n",
       "    <tr>\n",
       "      <th>7</th>\n",
       "      <td>Racing</td>\n",
       "      <td>7</td>\n",
       "      <td>63.197143</td>\n",
       "    </tr>\n",
       "    <tr>\n",
       "      <th>1</th>\n",
       "      <td>High tour</td>\n",
       "      <td>1</td>\n",
       "      <td>89.310000</td>\n",
       "    </tr>\n",
       "  </tbody>\n",
       "</table>\n",
       "</div>"
      ],
      "text/plain": [
       "                    sport  count  average_length\n",
       "14            Via ferrata      2        1.755000\n",
       "10                 Sledge      2        4.995000\n",
       "15          Winter hiking     11        5.298182\n",
       "5          Nordic Walking      2        5.905000\n",
       "11               Snowshoe     15        5.931333\n",
       "9            Ski-Freeride      2        7.970000\n",
       "12         Thematic route     23        9.576957\n",
       "8                 Running      1        9.860000\n",
       "13           Trailrunning      5       11.908000\n",
       "2                  Hiking    289       12.510865\n",
       "6              Pilgrimage     12       14.612500\n",
       "4            Mountainbike     15       26.754667\n",
       "3   Long distance cycling      1       31.430000\n",
       "0                 Cycling     12       33.103333\n",
       "7                  Racing      7       63.197143\n",
       "1               High tour      1       89.310000"
      ]
     },
     "execution_count": 45,
     "metadata": {},
     "output_type": "execute_result"
    }
   ],
   "source": [
    "sporttype = hikes_df.groupby('sport') \\\n",
    "       .agg({'sport':'count', 'length':'mean'}) \\\n",
    "       .rename(columns={'sport':'count','length':'average_length'}) \\\n",
    "       .reset_index() \\\n",
    "       .sort_values(by=['average_length'])\n",
    "sporttype"
   ]
  },
  {
   "cell_type": "markdown",
   "metadata": {},
   "source": [
    "### 3.2 Focus on the most relevant activities\n",
    "Remove the activities, which have less than 10 entries."
   ]
  },
  {
   "cell_type": "code",
   "execution_count": 46,
   "metadata": {},
   "outputs": [
    {
     "data": {
      "text/plain": [
       "sport\n",
       "Cycling            12\n",
       "Hiking            289\n",
       "Mountainbike       15\n",
       "Pilgrimage         12\n",
       "Snowshoe           15\n",
       "Thematic route     23\n",
       "Winter hiking      11\n",
       "dtype: int64"
      ]
     },
     "execution_count": 46,
     "metadata": {},
     "output_type": "execute_result"
    }
   ],
   "source": [
    "hikes_analysis = hikes_df.groupby(\"sport\").filter(lambda x: len(x) > 10)\n",
    "hikes_analysis.groupby(['sport']).size()"
   ]
  },
  {
   "cell_type": "markdown",
   "metadata": {},
   "source": [
    "### 3.3 Bar Chart Visualization\n",
    "Now that the activities with little entries are removed, a barchart of the sport types is much more readable. We can see that the most popular activity on our list of trails is hiking with more than 250 entries."
   ]
  },
  {
   "cell_type": "code",
   "execution_count": 47,
   "metadata": {},
   "outputs": [
    {
     "data": {
      "text/plain": [
       "Text(0, 0.5, 'Count')"
      ]
     },
     "execution_count": 47,
     "metadata": {},
     "output_type": "execute_result"
    },
    {
     "data": {
      "image/png": "[encoded data removed]",
      "text/plain": [
       "<Figure size 720x576 with 1 Axes>"
      ]
     },
     "metadata": {},
     "output_type": "display_data"
    }
   ],
   "source": [
    "ax = hikes_analysis['sport'].value_counts().plot(kind='bar')\n",
    "plt.title('Frequency of Sports')\n",
    "plt.xlabel('Type of Sport')\n",
    "plt.ylabel('Count')"
   ]
  },
  {
   "cell_type": "code",
   "execution_count": 48,
   "metadata": {},
   "outputs": [
    {
     "data": {
      "text/plain": [
       "Text(0, 0.5, 'Count')"
      ]
     },
     "execution_count": 48,
     "metadata": {},
     "output_type": "execute_result"
    },
    {
     "data": {
      "image/png": "[encoded data removed]",
      "text/plain": [
       "<Figure size 720x576 with 1 Axes>"
      ]
     },
     "metadata": {},
     "output_type": "display_data"
    }
   ],
   "source": [
    "hikes_analysis['difficulty'].value_counts().plot(kind='bar')\n",
    "plt.title('Number of Trails by Difficulty')\n",
    "plt.xlabel('Difficulty')\n",
    "plt.ylabel('Count')"
   ]
  },
  {
   "cell_type": "markdown",
   "metadata": {},
   "source": [
    "### 3.4 Scatter Plot Visualization\n",
    "\n",
    "The scatter plot paints an interesting picture of the trail data. First, the cycling trails are both the longest and the ones with most height meter difference out of the bunch. And second, it looks like all of the hiking trails fall between 2 and 20km. Perhaps this is because \"Long distance hiking trails\" are considered to be trails that are > 20km?"
   ]
  },
  {
   "cell_type": "code",
   "execution_count": 78,
   "metadata": {},
   "outputs": [
    {
     "data": {
      "text/plain": [
       "(0.0, 100.0)"
      ]
     },
     "execution_count": 78,
     "metadata": {},
     "output_type": "execute_result"
    },
    {
     "data": {
      "image/png": "[encoded data removed]",
      "text/plain": [
       "<Figure size 720x576 with 1 Axes>"
      ]
     },
     "metadata": {},
     "output_type": "display_data"
    }
   ],
   "source": [
    "sns.scatterplot(    \n",
    "    data=hikes_analysis,\n",
    "    x=\"length\", y=\"climb\", hue='sport', palette =\"tab10_r\"\n",
    ").set_title('Length and Distance By Sport Type')\n",
    "   \n",
    "plt.xlim(0, 100)\n",
    "#sns.plt.xlim(0, 100)\n"
   ]
  },
  {
   "cell_type": "code",
   "execution_count": 50,
   "metadata": {},
   "outputs": [
    {
     "data": {
      "text/html": [
       "<div>\n",
       "<style scoped>\n",
       "    .dataframe tbody tr th:only-of-type {\n",
       "        vertical-align: middle;\n",
       "    }\n",
       "\n",
       "    .dataframe tbody tr th {\n",
       "        vertical-align: top;\n",
       "    }\n",
       "\n",
       "    .dataframe thead th {\n",
       "        text-align: right;\n",
       "    }\n",
       "</style>\n",
       "<table border=\"1\" class=\"dataframe\">\n",
       "  <thead>\n",
       "    <tr style=\"text-align: right;\">\n",
       "      <th></th>\n",
       "      <th>length</th>\n",
       "      <th>climb</th>\n",
       "      <th>min</th>\n",
       "      <th>max</th>\n",
       "      <th>technique</th>\n",
       "      <th>fitness</th>\n",
       "    </tr>\n",
       "    <tr>\n",
       "      <th>difficulty</th>\n",
       "      <th></th>\n",
       "      <th></th>\n",
       "      <th></th>\n",
       "      <th></th>\n",
       "      <th></th>\n",
       "      <th></th>\n",
       "    </tr>\n",
       "  </thead>\n",
       "  <tbody>\n",
       "    <tr>\n",
       "      <th></th>\n",
       "      <td>36.314545</td>\n",
       "      <td>853.045455</td>\n",
       "      <td>797.181818</td>\n",
       "      <td>1341.227273</td>\n",
       "      <td>0.000000</td>\n",
       "      <td>0.000000</td>\n",
       "    </tr>\n",
       "    <tr>\n",
       "      <th>difficult</th>\n",
       "      <td>22.206032</td>\n",
       "      <td>1060.079365</td>\n",
       "      <td>980.238095</td>\n",
       "      <td>1897.095238</td>\n",
       "      <td>3.174603</td>\n",
       "      <td>4.968254</td>\n",
       "    </tr>\n",
       "    <tr>\n",
       "      <th>easy</th>\n",
       "      <td>8.309412</td>\n",
       "      <td>191.134454</td>\n",
       "      <td>824.235294</td>\n",
       "      <td>1026.033613</td>\n",
       "      <td>1.310924</td>\n",
       "      <td>1.840336</td>\n",
       "    </tr>\n",
       "    <tr>\n",
       "      <th>medium</th>\n",
       "      <td>12.470000</td>\n",
       "      <td>538.959184</td>\n",
       "      <td>957.826531</td>\n",
       "      <td>1471.566327</td>\n",
       "      <td>2.551020</td>\n",
       "      <td>3.346939</td>\n",
       "    </tr>\n",
       "  </tbody>\n",
       "</table>\n",
       "</div>"
      ],
      "text/plain": [
       "               length        climb         min          max  technique  \\\n",
       "difficulty                                                               \n",
       "            36.314545   853.045455  797.181818  1341.227273   0.000000   \n",
       "difficult   22.206032  1060.079365  980.238095  1897.095238   3.174603   \n",
       "easy         8.309412   191.134454  824.235294  1026.033613   1.310924   \n",
       "medium      12.470000   538.959184  957.826531  1471.566327   2.551020   \n",
       "\n",
       "             fitness  \n",
       "difficulty            \n",
       "            0.000000  \n",
       "difficult   4.968254  \n",
       "easy        1.840336  \n",
       "medium      3.346939  "
      ]
     },
     "execution_count": 50,
     "metadata": {},
     "output_type": "execute_result"
    }
   ],
   "source": [
    "# mean length for difficulty:\n",
    "hikes_df.groupby('difficulty').mean()"
   ]
  },
  {
   "cell_type": "markdown",
   "metadata": {},
   "source": [
    "### 3.5 Line Plot Visualization  \n",
    "\n",
    "Trail Distance and elevation for all sports\n",
    "\n",
    "Most of the trails in this data vary from 20 to 80km. If 80km seems like a long hike, that's because it is! This lineplot is comparing the distance and height for all sports. It looks like we need to remove the other types of sports to get a better picture of hiking trails."
   ]
  },
  {
   "cell_type": "code",
   "execution_count": 51,
   "metadata": {},
   "outputs": [
    {
     "data": {
      "image/png": "[encoded data removed]",
      "text/plain": [
       "<Figure size 720x576 with 1 Axes>"
      ]
     },
     "metadata": {},
     "output_type": "display_data"
    }
   ],
   "source": [
    "tour_len = sorted(pd.Series(hikes_analysis[\"length\"]))\n",
    "tour_climb = sorted(pd.Series(hikes_analysis[\"climb\"]))\n",
    "plt.plot(tour_len, tour_climb)\n",
    "plt.ylabel('Climb (m)')\n",
    "plt.xlabel(\"Length (km)\")\n",
    "plt.title('All Sports');"
   ]
  },
  {
   "cell_type": "markdown",
   "metadata": {},
   "source": [
    "# 4 Analysis: Hiking Trails \n",
    "\n",
    "The primary interest of this analysis is hiking trail data. The following analysis will compare only hiking trails and drop the rest of the sport types. The below graph makes a lot more sense than the one above, considering the maximum length is 20km instead of 80km "
   ]
  },
  {
   "cell_type": "code",
   "execution_count": 52,
   "metadata": {},
   "outputs": [],
   "source": [
    "hiking = hikes_df[hikes_df.sport == \"Hiking\"]"
   ]
  },
  {
   "cell_type": "code",
   "execution_count": 53,
   "metadata": {},
   "outputs": [
    {
     "data": {
      "image/png": "[encoded data removed]",
      "text/plain": [
       "<Figure size 720x576 with 1 Axes>"
      ]
     },
     "metadata": {},
     "output_type": "display_data"
    }
   ],
   "source": [
    "tour_len = sorted(pd.Series(hiking[\"length\"]))\n",
    "tour_climb = sorted(pd.Series(hiking[\"climb\"]))\n",
    "plt.plot(tour_len, tour_climb)\n",
    "plt.ylabel('Climb (m)')\n",
    "plt.xlabel(\"Length (km)\")\n",
    "plt.title('Hikes');"
   ]
  },
  {
   "cell_type": "markdown",
   "metadata": {},
   "source": []
  },
  {
   "cell_type": "markdown",
   "metadata": {},
   "source": [
    "### 4.1 Boxplots: Difficulty scores and the relationship to elevation gain and distance\n",
    "\n",
    "The following boxplots show how the trail data is distributed by difficulty catagory compared to both elevation gain and distance. It's pretty clear that the relationship between elevation gain and difficulty is more meaningful than the relationship between distance and difficulty. My legs agree! "
   ]
  },
  {
   "cell_type": "code",
   "execution_count": 56,
   "metadata": {},
   "outputs": [
    {
     "data": {
      "image/png": "[encoded data removed]",
      "text/plain": [
       "<Figure size 720x576 with 1 Axes>"
      ]
     },
     "metadata": {},
     "output_type": "display_data"
    }
   ],
   "source": [
    "ax = sns.boxplot(x=\"difficulty\", y=\"climb\", data=hiking) \\\n",
    ".set_title('Relationship. Between Trail Difficulty Rating and Elevation Gain')\n"
   ]
  },
  {
   "cell_type": "code",
   "execution_count": 57,
   "metadata": {},
   "outputs": [
    {
     "data": {
      "image/png": "[encoded data removed]",
      "text/plain": [
       "<Figure size 720x576 with 1 Axes>"
      ]
     },
     "metadata": {},
     "output_type": "display_data"
    }
   ],
   "source": [
    "ax = sns.boxplot(x=\"difficulty\", y=\"length\",showfliers = False, data=hiking) \\\n",
    ".set_title('Relationship. Between Trail Difficulty Rating and Distance')\n"
   ]
  },
  {
   "cell_type": "markdown",
   "metadata": {},
   "source": [
    "# 5 Download Trail GPS Data\n",
    "\n",
    "The next part of this notebook deals with parsing HTML tags again, however this time around we will be gathering the GPS data needed to create the snowfall alert. The GPS data for each trail is actually a list of GPS points that comprise the length of the trail, from start to summit. However, we will only be using the first GPS point in our algorithm, which is the trail-head. \n",
    "\n",
    "The Bergfex website embedds their GPS data into downloadable files, which are meant to be uploaded to a GPS device for navigation purposes. As such, the following code will automatically download each GPS file into a folder. Importantly, a sleep timer is added to replicate how a human may download these files, if the sleep timer is not added, the website will become suspicious and prevent us from downloading more files. \n",
    "\n",
    "The type of GPS file that is being downloaded is a \"GPX\" or \"GPS Exchange Format\" file, which is a special type of XML file that can be used to describe waypoints. For testing purposes, these GPX files were uploaded into Google Earth, and it correctly displayed the location. \n",
    "\n",
    "- https://www.bergfex.com/downloads/gps/?type=&id=271548&fileType=kml\n"
   ]
  },
  {
   "cell_type": "markdown",
   "metadata": {},
   "source": [
    "### 5.1 Download Batches of GPS Files\n",
    "\n",
    "This loop uses the hike id's to navigate to each of the hike's pages. It then downloads the GPS file to the folder \"gpx_files\" and saves it as a filename \"Unique hike id.gpx\". To prevent being blocked from the page, we download the dat in small batches for all 400 activities."
   ]
  },
  {
   "cell_type": "code",
   "execution_count": 88,
   "metadata": {},
   "outputs": [
    {
     "data": {
      "text/plain": [
       "0      812684\n",
       "1       70037\n",
       "2      131669\n",
       "3       70018\n",
       "4      131616\n",
       "        ...  \n",
       "395     48766\n",
       "396    306681\n",
       "397    335766\n",
       "398     51049\n",
       "399     86144\n",
       "Name: 5, Length: 400, dtype: object"
      ]
     },
     "execution_count": 88,
     "metadata": {},
     "output_type": "execute_result"
    }
   ],
   "source": [
    "# Create a list of only trail ids\n",
    "final_id = id_df.iloc[:,5]\n",
    "final_id"
   ]
  },
  {
   "cell_type": "code",
   "execution_count": 90,
   "metadata": {},
   "outputs": [
    {
     "name": "stdout",
     "output_type": "stream",
     "text": [
      "49257\n",
      "131616\n",
      "70016\n",
      "159623\n",
      "131600\n",
      "891220\n",
      "172177\n",
      "49192\n",
      "92457\n",
      "99638\n"
     ]
    }
   ],
   "source": [
    "import time\n",
    "# create a small subset of data for testing\n",
    "test_loop = final_id.iloc[20:30]\n",
    "for sport_id in test_loop: \n",
    "    url_id = f\"https://www.bergfex.com/downloads/gps/?type=&id={sport_id};fileType=kml\"\n",
    "    r = requests.get(url_id, allow_redirects=True)\n",
    "    time.sleep(5) \n",
    "    write_link = (sport_id + \".gpx\")\n",
    "    # Replace kml files with your filename\n",
    "    with open('gps_files/'+ write_link, 'wb') as f:\n",
    "        f.write(r.content)"
   ]
  },
  {
   "cell_type": "markdown",
   "metadata": {},
   "source": [
    "###  5.2 Extract Coordinates from GPX files\n",
    "\n",
    "Now that the GPX files have been downloaded to a local file, we can loop through them and extract the important information, which is the latitude and the longitude of the trail start."
   ]
  },
  {
   "cell_type": "code",
   "execution_count": 92,
   "metadata": {},
   "outputs": [
    {
     "name": "stdout",
     "output_type": "stream",
     "text": [
      "[['172177', 'Hoch hinaus von Brienz bis auf die Axalp', 46.754616, 8.038], ['99638', 'Chutzenturm - von wo man die halbe Schweiz sieht', 46.995007, 7.285568], ['49192', 'Wo die Wehrli-Knaben ihr Abendlied sangen', 47.047939, 7.508046], ['49257', 'Über Berns berühmte Aussichtskanzel', 46.920872, 7.424895], ['891220', 'GFW 15 - Rund ume Frienisberger', 47.026432, 7.338569], ['159623', 'Rund um den Thunersee, Spiez - Thun', 46.686607, 7.680348], ['131616', 'Obersimmentaler Hausweg', 46.627392, 7.390042], ['131600', 'Lauenensee - Geltenhütte SAC - Lauenensee', 46.393784, 7.341265], ['70016', 'Iffigfall Trail - Lenk', 46.453796, 7.444332], ['92457', 'Auf den Gurten, den Berner Hausberg', 46.919285, 7.439665]]\n"
     ]
    }
   ],
   "source": [
    "list_of_trails_list = []\n",
    "list_of_files = glob.glob('gps_files/*gpx')  \n",
    "for fname in list_of_files:\n",
    "    trail_gps_list = []\n",
    "    gpx = gpxpy.parse(open(fname, 'r'))\n",
    "    # parse out trail id\n",
    "    remove_gpx = '.gpx'\n",
    "    fname = fname.strip(remove_gpx)\n",
    "    trail_id = fname.split('/')\n",
    "    trail_id = trail_id[1]\n",
    "    trail_gps_list.append(trail_id)\n",
    "    for track in gpx.tracks: \n",
    "        trail_name = track.name\n",
    "        trail_gps_list.append(trail_name)\n",
    "        for segment in track.segments: \n",
    "            for point in segment.points: \n",
    "              lat = point.latitude\n",
    "              trail_gps_list.append(lat)\n",
    "              lon = point.longitude\n",
    "              trail_gps_list.append(lon) \n",
    "              break\n",
    "        list_of_trails_list.append(trail_gps_list)\n",
    "\n",
    "print(list_of_trails_list)"
   ]
  },
  {
   "cell_type": "markdown",
   "metadata": {},
   "source": [
    "### 5.3  Create a Dataframe and Save as CSV\n",
    "\n",
    "Lets take a look at our data now that it has been extracted. It looks like everything has is working as intended. Each trail has a unique ID and latitude and longitude. This data can now be saved to a CSV file which will be used for the snow alert in the next notebook. "
   ]
  },
  {
   "cell_type": "code",
   "execution_count": null,
   "metadata": {},
   "outputs": [],
   "source": [
    "trail_coords_df = pd.DataFrame(list_of_trails_list)\n",
    "# name the columns\n",
    "trail_coords_df.columns=['trail_id', 'name', 'lat', 'lon']\n",
    "trail_coords_df.set_index('trail_id')"
   ]
  },
  {
   "cell_type": "code",
   "execution_count": null,
   "metadata": {},
   "outputs": [],
   "source": [
    "trail_coords_df.to_csv('trail_coords_df.csv', index=False)\n",
    "read= pd.read_csv('trail_coords_df.csv')\n",
    "read"
   ]
  }
 ],
 "metadata": {
  "kernelspec": {
   "display_name": "Python 3",
   "language": "python",
   "name": "python3"
  },
  "language_info": {
   "codemirror_mode": {
    "name": "ipython",
    "version": 3
   },
   "file_extension": ".py",
   "mimetype": "text/x-python",
   "name": "python",
   "nbconvert_exporter": "python",
   "pygments_lexer": "ipython3",
   "version": "3.8.3"
  }
 },
 "nbformat": 4,
 "nbformat_minor": 4
}
